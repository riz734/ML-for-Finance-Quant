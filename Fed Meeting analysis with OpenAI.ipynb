{
 "cells": [
  {
   "attachments": {},
   "cell_type": "markdown",
   "metadata": {},
   "source": [
    "## Analyzing impact of Fed Chair discussion"
   ]
  },
  {
   "cell_type": "code",
   "execution_count": 2,
   "metadata": {},
   "outputs": [],
   "source": [
    "#requirements\n",
    "# !pip install git+https://github.com/openai/whisper.git -q\n",
    "# !pip install pytube -q\n",
    "#!nvidia-smi -L\n",
    "import whisper\n",
    "from pytube import YouTube"
   ]
  },
  {
   "cell_type": "code",
   "execution_count": 3,
   "metadata": {},
   "outputs": [
    {
     "name": "stderr",
     "output_type": "stream",
     "text": [
      "c:\\Users\\ahmed\\AppData\\Local\\Programs\\Python\\Python310\\lib\\site-packages\\torch\\_utils.py:146: UserWarning: Failed to initialize NumPy: module compiled against API version 0x10 but this version of numpy is 0xe (Triggered internally at ..\\torch\\csrc\\utils\\tensor_numpy.cpp:77.)\n",
      "  t = torch.tensor([], dtype=storage.dtype, device=storage.untyped().device)\n"
     ]
    }
   ],
   "source": [
    "#sets up a whisper model to analyze audio\n",
    "model = whisper.load_model('base')\n",
    "#sets up video to be used for transcript using the pytube package\n",
    "youtube_video_url = \"https://www.youtube.com/watch?v=NT2H9iyd-ms\"\n",
    "fed_video = YouTube(youtube_video_url)"
   ]
  },
  {
   "cell_type": "code",
   "execution_count": 4,
   "metadata": {},
   "outputs": [
    {
     "data": {
      "text/plain": [
       "'WATCH LIVE | Fed Chair Powell Discusses Latest Fed Rate Hike'"
      ]
     },
     "execution_count": 4,
     "metadata": {},
     "output_type": "execute_result"
    }
   ],
   "source": [
    "fed_video.title"
   ]
  },
  {
   "cell_type": "code",
   "execution_count": 5,
   "metadata": {},
   "outputs": [
    {
     "data": {
      "text/plain": [
       "[<Stream: itag=\"17\" mime_type=\"video/3gpp\" res=\"144p\" fps=\"7fps\" vcodec=\"mp4v.20.3\" acodec=\"mp4a.40.2\" progressive=\"True\" type=\"video\">, <Stream: itag=\"18\" mime_type=\"video/mp4\" res=\"360p\" fps=\"30fps\" vcodec=\"avc1.42001E\" acodec=\"mp4a.40.2\" progressive=\"True\" type=\"video\">, <Stream: itag=\"22\" mime_type=\"video/mp4\" res=\"720p\" fps=\"30fps\" vcodec=\"avc1.64001F\" acodec=\"mp4a.40.2\" progressive=\"True\" type=\"video\">, <Stream: itag=\"137\" mime_type=\"video/mp4\" res=\"1080p\" fps=\"30fps\" vcodec=\"avc1.640028\" progressive=\"False\" type=\"video\">, <Stream: itag=\"248\" mime_type=\"video/webm\" res=\"1080p\" fps=\"30fps\" vcodec=\"vp9\" progressive=\"False\" type=\"video\">, <Stream: itag=\"136\" mime_type=\"video/mp4\" res=\"720p\" fps=\"30fps\" vcodec=\"avc1.64001f\" progressive=\"False\" type=\"video\">, <Stream: itag=\"247\" mime_type=\"video/webm\" res=\"720p\" fps=\"30fps\" vcodec=\"vp9\" progressive=\"False\" type=\"video\">, <Stream: itag=\"135\" mime_type=\"video/mp4\" res=\"480p\" fps=\"30fps\" vcodec=\"avc1.4d401f\" progressive=\"False\" type=\"video\">, <Stream: itag=\"244\" mime_type=\"video/webm\" res=\"480p\" fps=\"30fps\" vcodec=\"vp9\" progressive=\"False\" type=\"video\">, <Stream: itag=\"134\" mime_type=\"video/mp4\" res=\"360p\" fps=\"30fps\" vcodec=\"avc1.4d401e\" progressive=\"False\" type=\"video\">, <Stream: itag=\"243\" mime_type=\"video/webm\" res=\"360p\" fps=\"30fps\" vcodec=\"vp9\" progressive=\"False\" type=\"video\">, <Stream: itag=\"133\" mime_type=\"video/mp4\" res=\"240p\" fps=\"30fps\" vcodec=\"avc1.4d4015\" progressive=\"False\" type=\"video\">, <Stream: itag=\"242\" mime_type=\"video/webm\" res=\"240p\" fps=\"30fps\" vcodec=\"vp9\" progressive=\"False\" type=\"video\">, <Stream: itag=\"160\" mime_type=\"video/mp4\" res=\"144p\" fps=\"30fps\" vcodec=\"avc1.4d400c\" progressive=\"False\" type=\"video\">, <Stream: itag=\"278\" mime_type=\"video/webm\" res=\"144p\" fps=\"30fps\" vcodec=\"vp9\" progressive=\"False\" type=\"video\">, <Stream: itag=\"139\" mime_type=\"audio/mp4\" abr=\"48kbps\" acodec=\"mp4a.40.5\" progressive=\"False\" type=\"audio\">, <Stream: itag=\"140\" mime_type=\"audio/mp4\" abr=\"128kbps\" acodec=\"mp4a.40.2\" progressive=\"False\" type=\"audio\">, <Stream: itag=\"249\" mime_type=\"audio/webm\" abr=\"50kbps\" acodec=\"opus\" progressive=\"False\" type=\"audio\">, <Stream: itag=\"250\" mime_type=\"audio/webm\" abr=\"70kbps\" acodec=\"opus\" progressive=\"False\" type=\"audio\">, <Stream: itag=\"251\" mime_type=\"audio/webm\" abr=\"160kbps\" acodec=\"opus\" progressive=\"False\" type=\"audio\">]"
      ]
     },
     "execution_count": 5,
     "metadata": {},
     "output_type": "execute_result"
    }
   ],
   "source": [
    "fed_video.streams"
   ]
  },
  {
   "cell_type": "code",
   "execution_count": 6,
   "metadata": {},
   "outputs": [
    {
     "name": "stdout",
     "output_type": "stream",
     "text": [
      "<Stream: itag=\"17\" mime_type=\"video/3gpp\" res=\"144p\" fps=\"7fps\" vcodec=\"mp4v.20.3\" acodec=\"mp4a.40.2\" progressive=\"True\" type=\"video\">\n",
      "<Stream: itag=\"18\" mime_type=\"video/mp4\" res=\"360p\" fps=\"30fps\" vcodec=\"avc1.42001E\" acodec=\"mp4a.40.2\" progressive=\"True\" type=\"video\">\n",
      "<Stream: itag=\"22\" mime_type=\"video/mp4\" res=\"720p\" fps=\"30fps\" vcodec=\"avc1.64001F\" acodec=\"mp4a.40.2\" progressive=\"True\" type=\"video\">\n",
      "<Stream: itag=\"137\" mime_type=\"video/mp4\" res=\"1080p\" fps=\"30fps\" vcodec=\"avc1.640028\" progressive=\"False\" type=\"video\">\n",
      "<Stream: itag=\"248\" mime_type=\"video/webm\" res=\"1080p\" fps=\"30fps\" vcodec=\"vp9\" progressive=\"False\" type=\"video\">\n",
      "<Stream: itag=\"136\" mime_type=\"video/mp4\" res=\"720p\" fps=\"30fps\" vcodec=\"avc1.64001f\" progressive=\"False\" type=\"video\">\n",
      "<Stream: itag=\"247\" mime_type=\"video/webm\" res=\"720p\" fps=\"30fps\" vcodec=\"vp9\" progressive=\"False\" type=\"video\">\n",
      "<Stream: itag=\"135\" mime_type=\"video/mp4\" res=\"480p\" fps=\"30fps\" vcodec=\"avc1.4d401f\" progressive=\"False\" type=\"video\">\n",
      "<Stream: itag=\"244\" mime_type=\"video/webm\" res=\"480p\" fps=\"30fps\" vcodec=\"vp9\" progressive=\"False\" type=\"video\">\n",
      "<Stream: itag=\"134\" mime_type=\"video/mp4\" res=\"360p\" fps=\"30fps\" vcodec=\"avc1.4d401e\" progressive=\"False\" type=\"video\">\n",
      "<Stream: itag=\"243\" mime_type=\"video/webm\" res=\"360p\" fps=\"30fps\" vcodec=\"vp9\" progressive=\"False\" type=\"video\">\n",
      "<Stream: itag=\"133\" mime_type=\"video/mp4\" res=\"240p\" fps=\"30fps\" vcodec=\"avc1.4d4015\" progressive=\"False\" type=\"video\">\n",
      "<Stream: itag=\"242\" mime_type=\"video/webm\" res=\"240p\" fps=\"30fps\" vcodec=\"vp9\" progressive=\"False\" type=\"video\">\n",
      "<Stream: itag=\"160\" mime_type=\"video/mp4\" res=\"144p\" fps=\"30fps\" vcodec=\"avc1.4d400c\" progressive=\"False\" type=\"video\">\n",
      "<Stream: itag=\"278\" mime_type=\"video/webm\" res=\"144p\" fps=\"30fps\" vcodec=\"vp9\" progressive=\"False\" type=\"video\">\n",
      "<Stream: itag=\"139\" mime_type=\"audio/mp4\" abr=\"48kbps\" acodec=\"mp4a.40.5\" progressive=\"False\" type=\"audio\">\n",
      "<Stream: itag=\"140\" mime_type=\"audio/mp4\" abr=\"128kbps\" acodec=\"mp4a.40.2\" progressive=\"False\" type=\"audio\">\n",
      "<Stream: itag=\"249\" mime_type=\"audio/webm\" abr=\"50kbps\" acodec=\"opus\" progressive=\"False\" type=\"audio\">\n",
      "<Stream: itag=\"250\" mime_type=\"audio/webm\" abr=\"70kbps\" acodec=\"opus\" progressive=\"False\" type=\"audio\">\n",
      "<Stream: itag=\"251\" mime_type=\"audio/webm\" abr=\"160kbps\" acodec=\"opus\" progressive=\"False\" type=\"audio\">\n"
     ]
    }
   ],
   "source": [
    "#list of streams of varying resolution and types, only interested in audio for transcript\n",
    "for stream in fed_video.streams:\n",
    "  print(stream)"
   ]
  },
  {
   "cell_type": "code",
   "execution_count": 6,
   "metadata": {},
   "outputs": [
    {
     "data": {
      "text/plain": [
       "[<Stream: itag=\"139\" mime_type=\"audio/mp4\" abr=\"48kbps\" acodec=\"mp4a.40.5\" progressive=\"False\" type=\"audio\">, <Stream: itag=\"140\" mime_type=\"audio/mp4\" abr=\"128kbps\" acodec=\"mp4a.40.2\" progressive=\"False\" type=\"audio\">, <Stream: itag=\"249\" mime_type=\"audio/webm\" abr=\"50kbps\" acodec=\"opus\" progressive=\"False\" type=\"audio\">, <Stream: itag=\"250\" mime_type=\"audio/webm\" abr=\"70kbps\" acodec=\"opus\" progressive=\"False\" type=\"audio\">, <Stream: itag=\"251\" mime_type=\"audio/webm\" abr=\"160kbps\" acodec=\"opus\" progressive=\"False\" type=\"audio\">]"
      ]
     },
     "execution_count": 6,
     "metadata": {},
     "output_type": "execute_result"
    }
   ],
   "source": [
    "streams = fed_video.streams.filter(only_audio=True)\n",
    "streams"
   ]
  },
  {
   "cell_type": "code",
   "execution_count": 7,
   "metadata": {},
   "outputs": [
    {
     "data": {
      "text/plain": [
       "'c:\\\\Users\\\\ahmed\\\\OneDrive\\\\Desktop\\\\ML-for-Finance-Quant\\\\fed_meeting.mp4'"
      ]
     },
     "execution_count": 7,
     "metadata": {},
     "output_type": "execute_result"
    }
   ],
   "source": [
    "#selects the first available audio stream and downloads it, can train on higher quality with bigger whisper models\n",
    "stream = streams.first()\n",
    "stream.download(filename='fed_meeting.mp4')"
   ]
  },
  {
   "cell_type": "code",
   "execution_count": 8,
   "metadata": {},
   "outputs": [],
   "source": [
    "import ffmpeg"
   ]
  },
  {
   "cell_type": "code",
   "execution_count": 9,
   "metadata": {},
   "outputs": [
    {
     "name": "stderr",
     "output_type": "stream",
     "text": [
      "ffmpeg version 2022-12-21-git-eef763c705-full_build-www.gyan.dev Copyright (c) 2000-2022 the FFmpeg developers\n",
      "  built with gcc 12.1.0 (Rev2, Built by MSYS2 project)\n",
      "  configuration: --enable-gpl --enable-version3 --enable-static --disable-w32threads --disable-autodetect --enable-fontconfig --enable-iconv --enable-gnutls --enable-libxml2 --enable-gmp --enable-bzlib --enable-lzma --enable-libsnappy --enable-zlib --enable-librist --enable-libsrt --enable-libssh --enable-libzmq --enable-avisynth --enable-libbluray --enable-libcaca --enable-sdl2 --enable-libaribb24 --enable-libdav1d --enable-libdavs2 --enable-libuavs3d --enable-libzvbi --enable-librav1e --enable-libsvtav1 --enable-libwebp --enable-libx264 --enable-libx265 --enable-libxavs2 --enable-libxvid --enable-libaom --enable-libjxl --enable-libopenjpeg --enable-libvpx --enable-mediafoundation --enable-libass --enable-frei0r --enable-libfreetype --enable-libfribidi --enable-liblensfun --enable-libvidstab --enable-libvmaf --enable-libzimg --enable-amf --enable-cuda-llvm --enable-cuvid --enable-ffnvcodec --enable-nvdec --enable-nvenc --enable-d3d11va --enable-dxva2 --enable-libvpl --enable-libshaderc --enable-vulkan --enable-libplacebo --enable-opencl --enable-libcdio --enable-libgme --enable-libmodplug --enable-libopenmpt --enable-libopencore-amrwb --enable-libmp3lame --enable-libshine --enable-libtheora --enable-libtwolame --enable-libvo-amrwbenc --enable-libilbc --enable-libgsm --enable-libopencore-amrnb --enable-libopus --enable-libspeex --enable-libvorbis --enable-ladspa --enable-libbs2b --enable-libflite --enable-libmysofa --enable-librubberband --enable-libsoxr --enable-chromaprint\n",
      "  libavutil      57. 43.100 / 57. 43.100\n",
      "  libavcodec     59. 55.103 / 59. 55.103\n",
      "  libavformat    59. 34.102 / 59. 34.102\n",
      "  libavdevice    59.  8.101 / 59.  8.101\n",
      "  libavfilter     8. 53.100 /  8. 53.100\n",
      "  libswscale      6.  8.112 /  6.  8.112\n",
      "  libswresample   4.  9.100 /  4.  9.100\n",
      "  libpostproc    56.  7.100 / 56.  7.100\n",
      "Input #0, mov,mp4,m4a,3gp,3g2,mj2, from 'fed_meeting.mp4':\n",
      "  Metadata:\n",
      "    major_brand     : dash\n",
      "    minor_version   : 0\n",
      "    compatible_brands: iso6mp41\n",
      "    creation_time   : 2022-11-05T10:36:04.000000Z\n",
      "  Duration: 01:00:53.85, start: 0.000000, bitrate: 48 kb/s\n",
      "  Stream #0:0[0x1](eng): Audio: aac (HE-AAC) (mp4a / 0x6134706D), 44100 Hz, stereo, fltp, 0 kb/s (default)\n",
      "    Metadata:\n",
      "      creation_time   : 2022-11-05T10:36:04.000000Z\n",
      "      handler_name    : ISO Media file produced by Google Inc.\n",
      "      vendor_id       : [0][0][0][0]\n",
      "Stream mapping:\n",
      "  Stream #0:0 -> #0:0 (aac (native) -> aac (native))\n",
      "Press [q] to stop, [?] for help\n",
      "Output #0, mp4, to 'fed_meeting_trimmed.mp4':\n",
      "  Metadata:\n",
      "    major_brand     : dash\n",
      "    minor_version   : 0\n",
      "    compatible_brands: iso6mp41\n",
      "    encoder         : Lavf59.34.102\n",
      "  Stream #0:0(eng): Audio: aac (LC) (mp4a / 0x6134706D), 44100 Hz, stereo, fltp, 128 kb/s (default)\n",
      "    Metadata:\n",
      "      creation_time   : 2022-11-05T10:36:04.000000Z\n",
      "      handler_name    : ISO Media file produced by Google Inc.\n",
      "      vendor_id       : [0][0][0][0]\n",
      "      encoder         : Lavc59.55.103 aac\n",
      "size=       0kB time=-577014:32:22.77 bitrate=  -0.0kbits/s speed=N/A    \n",
      "size=       0kB time=00:00:13.44 bitrate=   0.0kbits/s speed=26.9x    \n",
      "size=     256kB time=00:00:29.18 bitrate=  71.9kbits/s speed=29.1x    \n",
      "size=     512kB time=00:00:44.09 bitrate=  95.1kbits/s speed=29.3x    \n",
      "size=     768kB time=00:00:59.55 bitrate= 105.6kbits/s speed=29.7x    \n",
      "size=    1024kB time=00:01:15.85 bitrate= 110.6kbits/s speed=30.2x    \n",
      "size=    1280kB time=00:01:33.64 bitrate= 112.0kbits/s speed=31.1x    \n",
      "size=    1536kB time=00:01:48.22 bitrate= 116.3kbits/s speed=30.8x    \n",
      "size=    1792kB time=00:02:03.69 bitrate= 118.7kbits/s speed=30.8x    \n",
      "size=    2048kB time=00:02:17.53 bitrate= 122.0kbits/s speed=30.5x    \n",
      "size=    2304kB time=00:02:35.31 bitrate= 121.5kbits/s speed=  31x    \n",
      "size=    2560kB time=00:02:49.90 bitrate= 123.4kbits/s speed=30.8x    \n",
      "size=    2816kB time=00:03:06.24 bitrate= 123.9kbits/s speed=  31x    \n",
      "size=    3072kB time=00:03:22.87 bitrate= 124.0kbits/s speed=31.1x    \n",
      "size=    3328kB time=00:03:41.26 bitrate= 123.2kbits/s speed=31.5x    \n",
      "size=    3584kB time=00:03:57.00 bitrate= 123.9kbits/s speed=31.5x    \n",
      "size=    3840kB time=00:04:13.07 bitrate= 124.3kbits/s speed=31.6x    \n",
      "size=    4096kB time=00:04:28.72 bitrate= 124.9kbits/s speed=31.6x    \n",
      "size=    4352kB time=00:04:43.67 bitrate= 125.7kbits/s speed=31.5x    \n",
      "size=    4608kB time=00:05:00.67 bitrate= 125.5kbits/s speed=31.6x    \n",
      "size=    4864kB time=00:05:16.88 bitrate= 125.7kbits/s speed=31.6x    \n",
      "size=    5120kB time=00:05:32.76 bitrate= 126.0kbits/s speed=31.6x    \n",
      "size=    5376kB time=00:05:47.39 bitrate= 126.8kbits/s speed=31.5x    \n",
      "size=    5632kB time=00:06:03.69 bitrate= 126.9kbits/s speed=31.6x    \n",
      "size=    5888kB time=00:06:18.22 bitrate= 127.5kbits/s speed=31.5x    \n",
      "size=    6144kB time=00:06:34.06 bitrate= 127.7kbits/s speed=31.5x    \n",
      "size=    6400kB time=00:06:49.53 bitrate= 128.0kbits/s speed=31.4x    \n",
      "size=    6656kB time=00:07:09.77 bitrate= 126.9kbits/s speed=31.8x    \n",
      "size=    6912kB time=00:07:26.21 bitrate= 126.9kbits/s speed=31.8x    \n",
      "size=    7168kB time=00:07:39.54 bitrate= 127.8kbits/s speed=31.6x    \n",
      "size=    7424kB time=00:07:52.73 bitrate= 128.7kbits/s speed=31.5x    \n",
      "size=    7424kB time=00:08:06.38 bitrate= 125.0kbits/s speed=31.3x    \n",
      "size=    7936kB time=00:08:26.72 bitrate= 128.3kbits/s speed=31.6x    \n",
      "size=    8192kB time=00:08:42.10 bitrate= 128.5kbits/s speed=31.6x    \n",
      "size=    8192kB time=00:08:56.35 bitrate= 125.1kbits/s speed=31.5x    \n",
      "size=    8448kB time=00:09:10.84 bitrate= 125.6kbits/s speed=31.4x    \n",
      "size=    8704kB time=00:09:24.87 bitrate= 126.2kbits/s speed=31.3x    \n",
      "size=    8960kB time=00:09:37.78 bitrate= 127.0kbits/s speed=31.2x    \n",
      "size=    9216kB time=00:09:51.52 bitrate= 127.6kbits/s speed=31.1x    \n",
      "size=    9472kB time=00:10:03.37 bitrate= 128.6kbits/s speed=30.9x    \n",
      "size=    9728kB time=00:10:19.11 bitrate= 128.7kbits/s speed=30.9x    \n",
      "size=    9728kB time=00:10:32.07 bitrate= 126.1kbits/s speed=30.8x    \n",
      "size=    9984kB time=00:10:47.11 bitrate= 126.4kbits/s speed=30.8x    \n",
      "size=   10240kB time=00:11:03.97 bitrate= 126.3kbits/s speed=30.8x    \n",
      "size=   10496kB time=00:11:19.81 bitrate= 126.5kbits/s speed=30.8x    \n",
      "size=   10752kB time=00:11:37.64 bitrate= 126.3kbits/s speed=30.9x    \n",
      "size=   11008kB time=00:11:51.34 bitrate= 126.8kbits/s speed=30.9x    \n",
      "size=   11264kB time=00:12:06.62 bitrate= 127.0kbits/s speed=30.8x    \n",
      "size=   11520kB time=00:12:21.20 bitrate= 127.3kbits/s speed=30.8x    \n",
      "size=   11776kB time=00:12:44.00 bitrate= 126.3kbits/s speed=31.1x    \n",
      "size=   12288kB time=00:13:03.55 bitrate= 128.5kbits/s speed=31.3x    \n",
      "size=   12544kB time=00:13:17.58 bitrate= 128.8kbits/s speed=31.2x    \n",
      "size=   12544kB time=00:13:30.81 bitrate= 126.7kbits/s speed=31.1x    \n",
      "size=   12800kB time=00:13:45.21 bitrate= 127.1kbits/s speed=31.1x    \n",
      "size=   13056kB time=00:14:01.56 bitrate= 127.1kbits/s speed=31.1x    \n",
      "size=   13312kB time=00:14:17.30 bitrate= 127.2kbits/s speed=31.1x    \n",
      "size=   13568kB time=00:14:29.23 bitrate= 127.9kbits/s speed=  31x    \n",
      "size=   13824kB time=00:14:42.33 bitrate= 128.3kbits/s speed=30.9x    \n",
      "size=   14080kB time=00:14:59.70 bitrate= 128.2kbits/s speed=30.9x    \n",
      "size=   14336kB time=00:15:15.77 bitrate= 128.2kbits/s speed=  31x    \n",
      "size=   14592kB time=00:15:29.98 bitrate= 128.5kbits/s speed=30.9x    \n",
      "size=   14848kB time=00:15:44.75 bitrate= 128.7kbits/s speed=30.9x    \n",
      "size=   15104kB time=00:16:01.05 bitrate= 128.7kbits/s speed=30.9x    \n",
      "size=   15360kB time=00:16:20.18 bitrate= 128.4kbits/s speed=  31x    \n",
      "size=   15616kB time=00:16:35.83 bitrate= 128.5kbits/s speed=  31x    \n",
      "size=   15872kB time=00:16:52.83 bitrate= 128.4kbits/s speed=31.1x    \n",
      "size=   16128kB time=00:17:07.36 bitrate= 128.6kbits/s speed=31.1x    \n",
      "size=   16384kB time=00:17:22.59 bitrate= 128.7kbits/s speed=  31x    \n",
      "size=   16640kB time=00:17:40.19 bitrate= 128.6kbits/s speed=31.1x    \n",
      "size=   16896kB time=00:17:56.50 bitrate= 128.6kbits/s speed=31.1x    \n",
      "size=   17152kB time=00:18:11.08 bitrate= 128.8kbits/s speed=31.1x    \n",
      "size=   17408kB time=00:18:27.80 bitrate= 128.7kbits/s speed=31.1x    \n",
      "size=   17664kB time=00:18:42.52 bitrate= 128.9kbits/s speed=31.1x    \n",
      "size=   17920kB time=00:19:00.12 bitrate= 128.8kbits/s speed=31.2x    \n",
      "size=   18176kB time=00:19:15.81 bitrate= 128.8kbits/s speed=31.2x    \n",
      "size=   18432kB time=00:19:32.30 bitrate= 128.8kbits/s speed=31.2x    \n",
      "size=   18432kB time=00:19:45.30 bitrate= 127.4kbits/s speed=31.1x    \n",
      "size=   18688kB time=00:20:01.19 bitrate= 127.5kbits/s speed=31.1x    \n",
      "size=   19200kB time=00:20:21.39 bitrate= 128.8kbits/s speed=31.2x    \n",
      "size=   19456kB time=00:20:38.94 bitrate= 128.6kbits/s speed=31.3x    \n",
      "size=   19712kB time=00:20:57.05 bitrate= 128.5kbits/s speed=31.4x    \n",
      "size=   19968kB time=00:21:13.31 bitrate= 128.5kbits/s speed=31.4x    \n",
      "size=   20224kB time=00:21:29.75 bitrate= 128.5kbits/s speed=31.4x    \n",
      "size=   20480kB time=00:21:45.44 bitrate= 128.5kbits/s speed=31.4x    \n",
      "size=   20736kB time=00:22:01.14 bitrate= 128.6kbits/s speed=31.4x    \n",
      "size=   20992kB time=00:22:17.95 bitrate= 128.5kbits/s speed=31.4x    \n",
      "size=   21248kB time=00:22:33.60 bitrate= 128.6kbits/s speed=31.4x    \n",
      "size=   21504kB time=00:22:50.79 bitrate= 128.5kbits/s speed=31.4x    \n",
      "size=   21760kB time=00:23:10.52 bitrate= 128.2kbits/s speed=31.5x    \n",
      "size=   22016kB time=00:23:25.43 bitrate= 128.3kbits/s speed=31.5x    \n",
      "size=   22272kB time=00:23:39.04 bitrate= 128.6kbits/s speed=31.5x    \n",
      "size=   22528kB time=00:23:52.32 bitrate= 128.8kbits/s speed=31.4x    \n",
      "size=   22528kB time=00:24:06.16 bitrate= 127.6kbits/s speed=31.4x    \n",
      "size=   22784kB time=00:24:21.34 bitrate= 127.7kbits/s speed=31.3x    \n",
      "size=   23040kB time=00:24:34.39 bitrate= 128.0kbits/s speed=31.3x    \n",
      "size=   23296kB time=00:24:49.53 bitrate= 128.1kbits/s speed=31.3x    \n",
      "size=   23552kB time=00:25:04.16 bitrate= 128.3kbits/s speed=31.3x    \n",
      "size=   23808kB time=00:25:19.30 bitrate= 128.4kbits/s speed=31.2x    \n",
      "size=   24064kB time=00:25:35.18 bitrate= 128.4kbits/s speed=31.3x    \n",
      "size=   24320kB time=00:25:50.46 bitrate= 128.5kbits/s speed=31.2x    \n",
      "size=   24576kB time=00:26:05.32 bitrate= 128.6kbits/s speed=31.2x    \n",
      "size=   24832kB time=00:26:21.58 bitrate= 128.6kbits/s speed=31.2x    \n",
      "size=   25088kB time=00:26:36.02 bitrate= 128.8kbits/s speed=31.2x    \n",
      "size=   25344kB time=00:26:55.71 bitrate= 128.5kbits/s speed=31.3x    \n",
      "size=   25600kB time=00:27:13.63 bitrate= 128.4kbits/s speed=31.3x    \n",
      "size=   25856kB time=00:27:28.26 bitrate= 128.5kbits/s speed=31.3x    \n",
      "size=   26112kB time=00:27:45.49 bitrate= 128.4kbits/s speed=31.3x    \n",
      "size=   26368kB time=00:28:02.77 bitrate= 128.4kbits/s speed=31.4x    \n",
      "size=   26624kB time=00:28:19.86 bitrate= 128.3kbits/s speed=31.4x    \n",
      "size=   26880kB time=00:28:36.72 bitrate= 128.3kbits/s speed=31.4x    \n",
      "size=   27136kB time=00:28:51.86 bitrate= 128.4kbits/s speed=31.4x    \n",
      "size=   27392kB time=00:29:06.02 bitrate= 128.5kbits/s speed=31.4x    \n",
      "size=   27648kB time=00:29:26.17 bitrate= 128.2kbits/s speed=31.5x    \n",
      "size=   27904kB time=00:29:42.99 bitrate= 128.2kbits/s speed=31.5x    \n",
      "size=   28160kB time=00:29:58.91 bitrate= 128.2kbits/s speed=31.5x    \n",
      "size=   28416kB time=00:30:15.08 bitrate= 128.3kbits/s speed=31.5x    \n",
      "size=   28672kB time=00:30:32.44 bitrate= 128.2kbits/s speed=31.5x    \n",
      "size=   28928kB time=00:30:49.30 bitrate= 128.1kbits/s speed=31.5x    \n",
      "size=   29184kB time=00:31:04.58 bitrate= 128.2kbits/s speed=31.5x    \n",
      "size=   29440kB time=00:31:17.77 bitrate= 128.4kbits/s speed=31.5x    \n",
      "size=   29696kB time=00:31:31.93 bitrate= 128.6kbits/s speed=31.4x    \n",
      "size=   29952kB time=00:31:46.24 bitrate= 128.7kbits/s speed=31.4x    \n",
      "size=   30208kB time=00:32:02.26 bitrate= 128.7kbits/s speed=31.4x    \n",
      "size=   30464kB time=00:32:17.17 bitrate= 128.8kbits/s speed=31.4x    \n",
      "size=   30720kB time=00:32:31.33 bitrate= 129.0kbits/s speed=31.4x    \n",
      "size=   30720kB time=00:32:46.56 bitrate= 128.0kbits/s speed=31.4x    \n",
      "size=   30976kB time=00:33:00.54 bitrate= 128.1kbits/s speed=31.4x    \n",
      "size=   31232kB time=00:33:17.91 bitrate= 128.1kbits/s speed=31.4x    \n",
      "size=   31488kB time=00:33:34.40 bitrate= 128.1kbits/s speed=31.4x    \n",
      "size=   31744kB time=00:33:49.58 bitrate= 128.1kbits/s speed=31.4x    \n",
      "size=   32000kB time=00:34:04.86 bitrate= 128.2kbits/s speed=31.4x    \n",
      "size=   32256kB time=00:34:23.39 bitrate= 128.1kbits/s speed=31.4x    \n",
      "size=   32512kB time=00:34:40.67 bitrate= 128.0kbits/s speed=31.4x    \n",
      "size=   33024kB time=00:34:58.73 bitrate= 128.9kbits/s speed=31.5x    \n",
      "size=   33280kB time=00:35:15.40 bitrate= 128.9kbits/s speed=31.5x    \n",
      "size=   33536kB time=00:35:31.98 bitrate= 128.9kbits/s speed=31.5x    \n",
      "size=   33792kB time=00:35:50.05 bitrate= 128.8kbits/s speed=31.5x    \n",
      "size=   34048kB time=00:36:08.30 bitrate= 128.6kbits/s speed=31.6x    \n",
      "size=   34304kB time=00:36:27.48 bitrate= 128.5kbits/s speed=31.6x    \n",
      "size=   34560kB time=00:36:44.99 bitrate= 128.4kbits/s speed=31.6x    \n",
      "size=   34816kB time=00:37:01.84 bitrate= 128.4kbits/s speed=31.7x    \n",
      "size=   35072kB time=00:37:17.31 bitrate= 128.4kbits/s speed=31.7x    \n",
      "size=   35328kB time=00:37:35.23 bitrate= 128.3kbits/s speed=31.7x    \n",
      "size=   35584kB time=00:37:52.97 bitrate= 128.2kbits/s speed=31.7x    \n",
      "size=   35840kB time=00:38:07.93 bitrate= 128.3kbits/s speed=31.7x    \n",
      "size=   36096kB time=00:38:22.00 bitrate= 128.5kbits/s speed=31.7x    \n",
      "size=   36352kB time=00:38:37.42 bitrate= 128.5kbits/s speed=31.7x    \n",
      "size=   36608kB time=00:38:53.90 bitrate= 128.5kbits/s speed=31.7x    \n",
      "size=   36864kB time=00:39:08.39 bitrate= 128.6kbits/s speed=31.7x    \n",
      "size=   37120kB time=00:39:25.48 bitrate= 128.6kbits/s speed=31.7x    \n",
      "size=   37376kB time=00:39:41.09 bitrate= 128.6kbits/s speed=31.7x    \n",
      "size=   37632kB time=00:39:56.18 bitrate= 128.7kbits/s speed=31.7x    \n",
      "size=   37888kB time=00:40:12.15 bitrate= 128.7kbits/s speed=31.7x    \n",
      "size=   38144kB time=00:40:27.62 bitrate= 128.7kbits/s speed=31.7x    \n",
      "size=   38400kB time=00:40:46.19 bitrate= 128.6kbits/s speed=31.7x    \n",
      "size=   38656kB time=00:41:04.35 bitrate= 128.5kbits/s speed=31.7x    \n",
      "size=   38912kB time=00:41:21.77 bitrate= 128.4kbits/s speed=31.7x    \n",
      "size=   39168kB time=00:41:39.37 bitrate= 128.4kbits/s speed=31.8x    \n",
      "size=   39424kB time=00:41:57.11 bitrate= 128.3kbits/s speed=31.8x    \n",
      "size=   39680kB time=00:42:13.08 bitrate= 128.3kbits/s speed=31.8x    \n",
      "size=   39936kB time=00:42:29.85 bitrate= 128.3kbits/s speed=31.8x    \n",
      "size=   40448kB time=00:42:52.42 bitrate= 128.8kbits/s speed=31.9x    \n",
      "size=   40704kB time=00:43:06.40 bitrate= 128.9kbits/s speed=31.8x    \n",
      "size=   40960kB time=00:43:22.19 bitrate= 128.9kbits/s speed=31.8x    \n",
      "size=   40960kB time=00:43:37.98 bitrate= 128.2kbits/s speed=31.8x    \n",
      "size=   41216kB time=00:43:54.28 bitrate= 128.2kbits/s speed=31.8x    \n",
      "size=   41728kB time=00:44:11.92 bitrate= 128.9kbits/s speed=31.9x    \n",
      "size=   41984kB time=00:44:30.17 bitrate= 128.8kbits/s speed=31.9x    \n",
      "size=   42240kB time=00:44:45.45 bitrate= 128.9kbits/s speed=31.9x    \n",
      "size=   42496kB time=00:45:01.52 bitrate= 128.9kbits/s speed=31.9x    \n",
      "size=   43193kB time=00:45:14.99 bitrate= 130.3kbits/s speed=31.9x    \n",
      "video:0kB audio:42735kB subtitle:0kB other streams:0kB global headers:0kB muxing overhead: 1.072130%\n",
      "[aac @ 000001d661fc7080] Qavg: 652.390\n"
     ]
    }
   ],
   "source": [
    "#trim out sections where Powell is not speaking during the meeting\n",
    "#start the audio file at 375 seconds, continue for 2715 seconds, and slice remaining audio\n",
    "!ffmpeg -ss 378 -i fed_meeting.mp4 -t 2715 fed_meeting_trimmed.mp4"
   ]
  },
  {
   "cell_type": "code",
   "execution_count": 1,
   "metadata": {},
   "outputs": [
    {
     "name": "stdout",
     "output_type": "stream",
     "text": [
      "started at 2022-12-22 15:58:34.483050\n"
     ]
    },
    {
     "ename": "NameError",
     "evalue": "name 'model' is not defined",
     "output_type": "error",
     "traceback": [
      "\u001b[1;31m---------------------------------------------------------------------------\u001b[0m",
      "\u001b[1;31mNameError\u001b[0m                                 Traceback (most recent call last)",
      "Cell \u001b[1;32mIn[1], line 8\u001b[0m\n\u001b[0;32m      5\u001b[0m \u001b[39mprint\u001b[39m(\u001b[39mf\u001b[39m\u001b[39m\"\u001b[39m\u001b[39mstarted at \u001b[39m\u001b[39m{\u001b[39;00mt1\u001b[39m}\u001b[39;00m\u001b[39m\"\u001b[39m)\n\u001b[0;32m      7\u001b[0m \u001b[39m# do the transcription\u001b[39;00m\n\u001b[1;32m----> 8\u001b[0m output \u001b[39m=\u001b[39m model\u001b[39m.\u001b[39mtranscribe(\u001b[39m\"\u001b[39m\u001b[39mfed_meeting_trimmed.mp4\u001b[39m\u001b[39m\"\u001b[39m)\n\u001b[0;32m     10\u001b[0m \u001b[39m# show time elapsed after transcription is complete.\u001b[39;00m\n\u001b[0;32m     11\u001b[0m t2 \u001b[39m=\u001b[39m datetime\u001b[39m.\u001b[39mdatetime\u001b[39m.\u001b[39mnow()\n",
      "\u001b[1;31mNameError\u001b[0m: name 'model' is not defined"
     ]
    }
   ],
   "source": [
    "# import datetime\n",
    "\n",
    "# # save a timestamp before transcription\n",
    "# t1 = datetime.datetime.now()\n",
    "# print(f\"started at {t1}\")\n",
    "\n",
    "# # do the transcription\n",
    "# output = model.transcribe(\"fed_meeting_trimmed.mp4\")\n",
    "\n",
    "# # show time elapsed after transcription is complete.\n",
    "# t2 = datetime.datetime.now()\n",
    "# print(f\"ended at {t2}\")\n",
    "# print(f\"time elapsed: {t2 - t1}\")"
   ]
  },
  {
   "cell_type": "code",
   "execution_count": null,
   "metadata": {},
   "outputs": [],
   "source": []
  }
 ],
 "metadata": {
  "kernelspec": {
   "display_name": "Python 3",
   "language": "python",
   "name": "python3"
  },
  "language_info": {
   "codemirror_mode": {
    "name": "ipython",
    "version": 3
   },
   "file_extension": ".py",
   "mimetype": "text/x-python",
   "name": "python",
   "nbconvert_exporter": "python",
   "pygments_lexer": "ipython3",
   "version": "3.10.8"
  },
  "orig_nbformat": 4,
  "vscode": {
   "interpreter": {
    "hash": "0cad00d5a13a3f60cb6d0dee52753d434f6ef86636012a882082aa2fea66afa5"
   }
  }
 },
 "nbformat": 4,
 "nbformat_minor": 2
}
